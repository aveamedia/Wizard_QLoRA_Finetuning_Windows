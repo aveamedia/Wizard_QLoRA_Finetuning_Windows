{
 "cells": [
  {
   "cell_type": "code",
   "execution_count": 1,
   "metadata": {},
   "outputs": [],
   "source": [
    "import pandas as pd\n",
    "import json"
   ]
  },
  {
   "cell_type": "code",
   "execution_count": null,
   "metadata": {},
   "outputs": [],
   "source": [
    "lines = []\n",
    "\n",
    "with open(\"comments2\", \"r\") as f:\n",
    "    for line in f:\n",
    "        lines.append(json.loads(line))"
   ]
  },
  {
   "cell_type": "code",
   "execution_count": null,
   "metadata": {},
   "outputs": [],
   "source": [
    "lines = pd.DataFrame(lines)"
   ]
  },
  {
   "cell_type": "code",
   "execution_count": null,
   "metadata": {},
   "outputs": [],
   "source": [
    "# Get the text data\n",
    "lines_ = lines[[\"body_cleaned\", \"score\"]]"
   ]
  },
  {
   "cell_type": "code",
   "execution_count": null,
   "metadata": {},
   "outputs": [],
   "source": [
    "# Remove null text or score\n",
    "lines_ = lines_[lines_[\"body_cleaned\"].notnull()]\n",
    "lines_ = lines_[lines_[\"score\"].notnull()]"
   ]
  },
  {
   "cell_type": "code",
   "execution_count": null,
   "metadata": {},
   "outputs": [],
   "source": [
    "# Add the score to the text data by adding \"score: {score of comment}\\n\" to the beginning of each comment\n",
    "lines_[\"body_cleaned\"] = \"score: \" + lines_[\"score\"].astype(str) + \"\\n\" + lines_[\"body_cleaned\"]"
   ]
  },
  {
   "cell_type": "code",
   "execution_count": null,
   "metadata": {},
   "outputs": [],
   "source": [
    "# Get all the text data\n",
    "text = lines_[\"body_cleaned\"].values"
   ]
  },
  {
   "cell_type": "code",
   "execution_count": null,
   "metadata": {},
   "outputs": [],
   "source": [
    "# Create huggingface dataset\n",
    "from datasets import Dataset\n",
    "\n",
    "dataset = Dataset.from_dict({\"text\": text})"
   ]
  },
  {
   "cell_type": "code",
   "execution_count": null,
   "metadata": {},
   "outputs": [],
   "source": [
    "from transformers import AutoTokenizer\n",
    "\n",
    "max_length = 128\n",
    "tokenizer = AutoTokenizer.from_pretrained(\"gmongaras/wizardLM-7B-HF-8bit\")"
   ]
  },
  {
   "cell_type": "code",
   "execution_count": null,
   "metadata": {},
   "outputs": [
    {
     "name": "stderr",
     "output_type": "stream",
     "text": [
      "                                                                         \r"
     ]
    }
   ],
   "source": [
    "# Load in the dataset and map using the tokenizer\n",
    "def map_function(example):\n",
    "    text = example[\"text\"]\n",
    "    \n",
    "    # Encode the question and output\n",
    "    text_encoded = tokenizer(text, max_length=max_length-1, truncation=True, padding=\"max_length\")\n",
    "    \n",
    "    # Add on a pad token to the end of the input_ids\n",
    "    text_encoded[\"input_ids\"] = text_encoded[\"input_ids\"] + [tokenizer.pad_token_id]\n",
    "    \n",
    "    # Attention mask is the length of the input_ids without the padding + 1\n",
    "    # because we want the model to stop itself\n",
    "    attention_mask = [1 for i in range(0, sum(text_encoded[\"attention_mask\"]) + 1)] + [0 for i in range(sum(text_encoded[\"attention_mask\"])+1, max_length)]\n",
    "    assert len(attention_mask) == max_length and len(text_encoded[\"input_ids\"]) == max_length, \\\n",
    "        \"Attention mask or input_ids is not the correct length\"\n",
    "    # attention_mask = text_encoded[\"attention_mask\"]\n",
    "    \n",
    "    # The labels are the input ids, but we want to mask the loss for the context and padding\n",
    "    labels = [attention_mask[\"input_ids\"][i] if attention_mask[\"attention_mask\"][i] == 1 else -100 for i in range(len(attention_mask[\"attention_mask\"]))]\n",
    "    \n",
    "    return {\n",
    "        \"input_ids\": text_encoded[\"input_ids\"],\n",
    "        \"labels\": labels,\n",
    "        \"attention_mask\": attention_mask\n",
    "    }\n",
    "dataset = dataset.map(map_function)"
   ]
  },
  {
   "cell_type": "code",
   "execution_count": null,
   "metadata": {},
   "outputs": [],
   "source": [
    "# Remove text from dataset\n",
    "dataset = dataset.remove_columns([\"text\"])"
   ]
  },
  {
   "cell_type": "code",
   "execution_count": null,
   "metadata": {},
   "outputs": [],
   "source": [
    "# Save dataset to hub\n",
    "dataset.save_to_disk(\"reddit_political_2019\")\n",
    "dataset.push_to_hub(\"gmongaras/reddit_political_2019\")"
   ]
  },
  {
   "cell_type": "code",
   "execution_count": null,
   "metadata": {},
   "outputs": [],
   "source": [
    "from datasets import load_from_disk\n",
    "dataset = load_from_disk(\"reddit_political_2019\")"
   ]
  },
  {
   "cell_type": "code",
   "execution_count": null,
   "metadata": {},
   "outputs": [],
   "source": []
  }
 ],
 "metadata": {
  "kernelspec": {
   "display_name": "Python 3",
   "language": "python",
   "name": "python3"
  },
  "language_info": {
   "codemirror_mode": {
    "name": "ipython",
    "version": 3
   },
   "file_extension": ".py",
   "mimetype": "text/x-python",
   "name": "python",
   "nbconvert_exporter": "python",
   "pygments_lexer": "ipython3",
   "version": "3.10.11"
  },
  "orig_nbformat": 4
 },
 "nbformat": 4,
 "nbformat_minor": 2
}
